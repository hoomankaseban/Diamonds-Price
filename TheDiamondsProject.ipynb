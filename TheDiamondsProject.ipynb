{
 "cells": [
  {
   "cell_type": "markdown",
   "id": "365518d1",
   "metadata": {},
   "source": [
    "# Valuation of Diamonds\n",
    "## Author : HoomanKaseban (Mr.Programmer)\n",
    "### In this project, we are trying to predict the price of Diamonds with their information"
   ]
  },
  {
   "cell_type": "markdown",
   "id": "a6393b4c",
   "metadata": {},
   "source": [
    "## import important libraries"
   ]
  },
  {
   "cell_type": "code",
   "execution_count": 1,
   "id": "94622c89",
   "metadata": {},
   "outputs": [],
   "source": [
    "import pandas as pd\n",
    "import numpy as np\n",
    "from sklearn.preprocessing import LabelEncoder\n",
    "from sklearn.preprocessing import StandardScaler\n",
    "from sklearn.metrics import r2_score\n",
    "from sklearn import linear_model\n",
    "from sklearn.model_selection import train_test_split as tts\n",
    "import matplotlib.pyplot as mpl\n",
    "%matplotlib inline"
   ]
  },
  {
   "cell_type": "markdown",
   "id": "0c523a0e",
   "metadata": {},
   "source": [
    "# Read The CSV File"
   ]
  },
  {
   "attachments": {},
   "cell_type": "markdown",
   "id": "6724bee3",
   "metadata": {},
   "source": [
    "### This File Contains the information of  Diamonds \n",
    "<ul>\n",
    "    <li><b>Price :</b>\n",
    "        <i style=\"color:red;font-family:arial;font-weight:bold\">Price of Diamonds (in K$)</i>\n",
    "    </li>\n",
    "    <li><b>carat :</b>\n",
    "        <i style=\"color:red;font-family:arial;font-weight:bold\">The Weight of Diamonds</i>\n",
    "    </li>\n",
    "    <li><b>Cut :</b>\n",
    "        <i style=\"color:red;font-family:arial;font-weight:bold\">Quality of Diamonds Cut</i>\n",
    "        <i style=\"color:blue;font-family:tahoma;font-weight:bold;font-size:9pt\">\n",
    "            <br >\n",
    "            <q style=\"color:black;font-weight:bold\">Fair,Good,VeryGood,Ideal,Premium(Excellent)</q> Description at Cut.Jpeg</i>\n",
    "    </li>  \n",
    "    <li><b>table :</b>\n",
    "        <i style=\"color:red;font-family:arial;font-weight:bold\"> A diamond's table refers to the flat facet of the diamond seen when the stone is face up.</i>\n",
    "    </li>    \n",
    "    <li><b>Clarity :</b>\n",
    "        <i style=\"color:red;font-family:arial;font-weight:bold\">Diamond clarity refers to how flawless a diamond is.more Description in Clarity.Jpeg</i>\n",
    "    </li>\n",
    "    <li><b>Depth :</b>\n",
    "        <i style=\"color:red;font-family:arial;font-weight:bold\">The depth of a diamond refers to its measurement from top to bottom, from the table on the top of the diamond to the culet at its base.</i>\n",
    "    </li>\n",
    "    <li><b>Color :</b>\n",
    "        <i style=\"color:red;font-family:arial;font-weight:bold\">Description in Color.Jpeg</i>\n",
    "    </li>\n",
    "    <li><b>X :</b>\n",
    "        <i style=\"color:red;font-family:arial;font-weight:bold\">Diamond on the X-axis</i>\n",
    "    </li>\n",
    "    <li><b>Y :</b>\n",
    "        <i style=\"color:red;font-family:arial;font-weight:bold\">Diamond on the Y-axis</i>\n",
    "    </li>\n",
    "    <li><b>Z :</b>\n",
    "        <i style=\"color:red;font-family:arial;font-weight:bold\">Diamond on the Z-axis</i>\n",
    "    </li> \n",
    "</ul>"
   ]
  },
  {
   "cell_type": "code",
   "execution_count": 2,
   "id": "7aa2301a",
   "metadata": {},
   "outputs": [
    {
     "data": {
      "text/html": [
       "<div>\n",
       "<style scoped>\n",
       "    .dataframe tbody tr th:only-of-type {\n",
       "        vertical-align: middle;\n",
       "    }\n",
       "\n",
       "    .dataframe tbody tr th {\n",
       "        vertical-align: top;\n",
       "    }\n",
       "\n",
       "    .dataframe thead th {\n",
       "        text-align: right;\n",
       "    }\n",
       "</style>\n",
       "<table border=\"1\" class=\"dataframe\">\n",
       "  <thead>\n",
       "    <tr style=\"text-align: right;\">\n",
       "      <th></th>\n",
       "      <th>Unnamed: 0</th>\n",
       "      <th>carat</th>\n",
       "      <th>cut</th>\n",
       "      <th>color</th>\n",
       "      <th>clarity</th>\n",
       "      <th>depth</th>\n",
       "      <th>table</th>\n",
       "      <th>price</th>\n",
       "      <th>x</th>\n",
       "      <th>y</th>\n",
       "      <th>z</th>\n",
       "    </tr>\n",
       "  </thead>\n",
       "  <tbody>\n",
       "    <tr>\n",
       "      <th>0</th>\n",
       "      <td>1</td>\n",
       "      <td>0.23</td>\n",
       "      <td>Ideal</td>\n",
       "      <td>E</td>\n",
       "      <td>SI2</td>\n",
       "      <td>61.5</td>\n",
       "      <td>55.0</td>\n",
       "      <td>326</td>\n",
       "      <td>3.95</td>\n",
       "      <td>3.98</td>\n",
       "      <td>2.43</td>\n",
       "    </tr>\n",
       "    <tr>\n",
       "      <th>1</th>\n",
       "      <td>2</td>\n",
       "      <td>0.21</td>\n",
       "      <td>Premium</td>\n",
       "      <td>E</td>\n",
       "      <td>SI1</td>\n",
       "      <td>59.8</td>\n",
       "      <td>61.0</td>\n",
       "      <td>326</td>\n",
       "      <td>3.89</td>\n",
       "      <td>3.84</td>\n",
       "      <td>2.31</td>\n",
       "    </tr>\n",
       "    <tr>\n",
       "      <th>2</th>\n",
       "      <td>3</td>\n",
       "      <td>0.23</td>\n",
       "      <td>Good</td>\n",
       "      <td>E</td>\n",
       "      <td>VS1</td>\n",
       "      <td>56.9</td>\n",
       "      <td>65.0</td>\n",
       "      <td>327</td>\n",
       "      <td>4.05</td>\n",
       "      <td>4.07</td>\n",
       "      <td>2.31</td>\n",
       "    </tr>\n",
       "    <tr>\n",
       "      <th>3</th>\n",
       "      <td>4</td>\n",
       "      <td>0.29</td>\n",
       "      <td>Premium</td>\n",
       "      <td>I</td>\n",
       "      <td>VS2</td>\n",
       "      <td>62.4</td>\n",
       "      <td>58.0</td>\n",
       "      <td>334</td>\n",
       "      <td>4.20</td>\n",
       "      <td>4.23</td>\n",
       "      <td>2.63</td>\n",
       "    </tr>\n",
       "    <tr>\n",
       "      <th>4</th>\n",
       "      <td>5</td>\n",
       "      <td>0.31</td>\n",
       "      <td>Good</td>\n",
       "      <td>J</td>\n",
       "      <td>SI2</td>\n",
       "      <td>63.3</td>\n",
       "      <td>58.0</td>\n",
       "      <td>335</td>\n",
       "      <td>4.34</td>\n",
       "      <td>4.35</td>\n",
       "      <td>2.75</td>\n",
       "    </tr>\n",
       "  </tbody>\n",
       "</table>\n",
       "</div>"
      ],
      "text/plain": [
       "   Unnamed: 0  carat      cut color clarity  depth  table  price     x     y  \\\n",
       "0           1   0.23    Ideal     E     SI2   61.5   55.0    326  3.95  3.98   \n",
       "1           2   0.21  Premium     E     SI1   59.8   61.0    326  3.89  3.84   \n",
       "2           3   0.23     Good     E     VS1   56.9   65.0    327  4.05  4.07   \n",
       "3           4   0.29  Premium     I     VS2   62.4   58.0    334  4.20  4.23   \n",
       "4           5   0.31     Good     J     SI2   63.3   58.0    335  4.34  4.35   \n",
       "\n",
       "      z  \n",
       "0  2.43  \n",
       "1  2.31  \n",
       "2  2.31  \n",
       "3  2.63  \n",
       "4  2.75  "
      ]
     },
     "execution_count": 2,
     "metadata": {},
     "output_type": "execute_result"
    }
   ],
   "source": [
    "df=pd.read_csv('Diamonds Prices2022.csv')\n",
    "df.head()"
   ]
  },
  {
   "cell_type": "code",
   "execution_count": 3,
   "id": "ba67c81f",
   "metadata": {},
   "outputs": [
    {
     "data": {
      "text/plain": [
       "Index(['Unnamed: 0', 'carat', 'cut', 'color', 'clarity', 'depth', 'table',\n",
       "       'price', 'x', 'y', 'z'],\n",
       "      dtype='object')"
      ]
     },
     "execution_count": 3,
     "metadata": {},
     "output_type": "execute_result"
    }
   ],
   "source": [
    "df.columns"
   ]
  },
  {
   "cell_type": "markdown",
   "id": "f62869c1",
   "metadata": {},
   "source": [
    "# Deleting Useless Column"
   ]
  },
  {
   "cell_type": "code",
   "execution_count": 4,
   "id": "ba1ae076",
   "metadata": {},
   "outputs": [
    {
     "data": {
      "text/html": [
       "<div>\n",
       "<style scoped>\n",
       "    .dataframe tbody tr th:only-of-type {\n",
       "        vertical-align: middle;\n",
       "    }\n",
       "\n",
       "    .dataframe tbody tr th {\n",
       "        vertical-align: top;\n",
       "    }\n",
       "\n",
       "    .dataframe thead th {\n",
       "        text-align: right;\n",
       "    }\n",
       "</style>\n",
       "<table border=\"1\" class=\"dataframe\">\n",
       "  <thead>\n",
       "    <tr style=\"text-align: right;\">\n",
       "      <th></th>\n",
       "      <th>carat</th>\n",
       "      <th>cut</th>\n",
       "      <th>color</th>\n",
       "      <th>clarity</th>\n",
       "      <th>depth</th>\n",
       "      <th>table</th>\n",
       "      <th>price</th>\n",
       "      <th>x</th>\n",
       "      <th>y</th>\n",
       "      <th>z</th>\n",
       "    </tr>\n",
       "  </thead>\n",
       "  <tbody>\n",
       "    <tr>\n",
       "      <th>0</th>\n",
       "      <td>0.23</td>\n",
       "      <td>Ideal</td>\n",
       "      <td>E</td>\n",
       "      <td>SI2</td>\n",
       "      <td>61.5</td>\n",
       "      <td>55.0</td>\n",
       "      <td>326</td>\n",
       "      <td>3.95</td>\n",
       "      <td>3.98</td>\n",
       "      <td>2.43</td>\n",
       "    </tr>\n",
       "    <tr>\n",
       "      <th>1</th>\n",
       "      <td>0.21</td>\n",
       "      <td>Premium</td>\n",
       "      <td>E</td>\n",
       "      <td>SI1</td>\n",
       "      <td>59.8</td>\n",
       "      <td>61.0</td>\n",
       "      <td>326</td>\n",
       "      <td>3.89</td>\n",
       "      <td>3.84</td>\n",
       "      <td>2.31</td>\n",
       "    </tr>\n",
       "    <tr>\n",
       "      <th>2</th>\n",
       "      <td>0.23</td>\n",
       "      <td>Good</td>\n",
       "      <td>E</td>\n",
       "      <td>VS1</td>\n",
       "      <td>56.9</td>\n",
       "      <td>65.0</td>\n",
       "      <td>327</td>\n",
       "      <td>4.05</td>\n",
       "      <td>4.07</td>\n",
       "      <td>2.31</td>\n",
       "    </tr>\n",
       "    <tr>\n",
       "      <th>3</th>\n",
       "      <td>0.29</td>\n",
       "      <td>Premium</td>\n",
       "      <td>I</td>\n",
       "      <td>VS2</td>\n",
       "      <td>62.4</td>\n",
       "      <td>58.0</td>\n",
       "      <td>334</td>\n",
       "      <td>4.20</td>\n",
       "      <td>4.23</td>\n",
       "      <td>2.63</td>\n",
       "    </tr>\n",
       "    <tr>\n",
       "      <th>4</th>\n",
       "      <td>0.31</td>\n",
       "      <td>Good</td>\n",
       "      <td>J</td>\n",
       "      <td>SI2</td>\n",
       "      <td>63.3</td>\n",
       "      <td>58.0</td>\n",
       "      <td>335</td>\n",
       "      <td>4.34</td>\n",
       "      <td>4.35</td>\n",
       "      <td>2.75</td>\n",
       "    </tr>\n",
       "  </tbody>\n",
       "</table>\n",
       "</div>"
      ],
      "text/plain": [
       "   carat      cut color clarity  depth  table  price     x     y     z\n",
       "0   0.23    Ideal     E     SI2   61.5   55.0    326  3.95  3.98  2.43\n",
       "1   0.21  Premium     E     SI1   59.8   61.0    326  3.89  3.84  2.31\n",
       "2   0.23     Good     E     VS1   56.9   65.0    327  4.05  4.07  2.31\n",
       "3   0.29  Premium     I     VS2   62.4   58.0    334  4.20  4.23  2.63\n",
       "4   0.31     Good     J     SI2   63.3   58.0    335  4.34  4.35  2.75"
      ]
     },
     "execution_count": 4,
     "metadata": {},
     "output_type": "execute_result"
    }
   ],
   "source": [
    "df.drop('Unnamed: 0',inplace=True,axis=1)\n",
    "df.head()"
   ]
  },
  {
   "cell_type": "code",
   "execution_count": 5,
   "id": "5e0ed1e3",
   "metadata": {},
   "outputs": [
    {
     "data": {
      "text/plain": [
       "carat      float64\n",
       "cut         object\n",
       "color       object\n",
       "clarity     object\n",
       "depth      float64\n",
       "table      float64\n",
       "price        int64\n",
       "x          float64\n",
       "y          float64\n",
       "z          float64\n",
       "dtype: object"
      ]
     },
     "execution_count": 5,
     "metadata": {},
     "output_type": "execute_result"
    }
   ],
   "source": [
    "df.dtypes"
   ]
  },
  {
   "cell_type": "markdown",
   "id": "447bd584",
   "metadata": {},
   "source": [
    "# Encoding The ObjectType Columns"
   ]
  },
  {
   "cell_type": "code",
   "execution_count": 6,
   "id": "ab5ce8a4",
   "metadata": {},
   "outputs": [
    {
     "data": {
      "text/plain": [
       "2    21551\n",
       "3    13793\n",
       "4    12083\n",
       "1     4906\n",
       "0     1610\n",
       "Name: cut, dtype: int64"
      ]
     },
     "execution_count": 6,
     "metadata": {},
     "output_type": "execute_result"
    }
   ],
   "source": [
    "encoder=LabelEncoder().fit(df.cut)\n",
    "df.cut=encoder.transform(df.cut)\n",
    "df['cut'].value_counts()"
   ]
  },
  {
   "cell_type": "code",
   "execution_count": 7,
   "id": "65e65173",
   "metadata": {},
   "outputs": [
    {
     "data": {
      "text/plain": [
       "3    11292\n",
       "1     9799\n",
       "2     9543\n",
       "4     8304\n",
       "0     6775\n",
       "5     5422\n",
       "6     2808\n",
       "Name: color, dtype: int64"
      ]
     },
     "execution_count": 7,
     "metadata": {},
     "output_type": "execute_result"
    }
   ],
   "source": [
    "encoder=LabelEncoder().fit(df.color)\n",
    "df.color=encoder.transform(df.color)\n",
    "df['color'].value_counts()"
   ]
  },
  {
   "cell_type": "code",
   "execution_count": 8,
   "id": "c5af2927",
   "metadata": {},
   "outputs": [
    {
     "data": {
      "text/plain": [
       "2    13067\n",
       "5    12259\n",
       "3     9194\n",
       "4     8171\n",
       "7     5066\n",
       "6     3655\n",
       "1     1790\n",
       "0      741\n",
       "Name: clarity, dtype: int64"
      ]
     },
     "execution_count": 8,
     "metadata": {},
     "output_type": "execute_result"
    }
   ],
   "source": [
    "encoder=LabelEncoder().fit(df.clarity)\n",
    "df.clarity=encoder.transform(df.clarity)\n",
    "df['clarity'].value_counts()"
   ]
  },
  {
   "cell_type": "code",
   "execution_count": 9,
   "id": "17610e16",
   "metadata": {},
   "outputs": [
    {
     "data": {
      "text/html": [
       "<div>\n",
       "<style scoped>\n",
       "    .dataframe tbody tr th:only-of-type {\n",
       "        vertical-align: middle;\n",
       "    }\n",
       "\n",
       "    .dataframe tbody tr th {\n",
       "        vertical-align: top;\n",
       "    }\n",
       "\n",
       "    .dataframe thead th {\n",
       "        text-align: right;\n",
       "    }\n",
       "</style>\n",
       "<table border=\"1\" class=\"dataframe\">\n",
       "  <thead>\n",
       "    <tr style=\"text-align: right;\">\n",
       "      <th></th>\n",
       "      <th>carat</th>\n",
       "      <th>cut</th>\n",
       "      <th>color</th>\n",
       "      <th>clarity</th>\n",
       "      <th>depth</th>\n",
       "      <th>table</th>\n",
       "      <th>price</th>\n",
       "      <th>x</th>\n",
       "      <th>y</th>\n",
       "      <th>z</th>\n",
       "    </tr>\n",
       "  </thead>\n",
       "  <tbody>\n",
       "    <tr>\n",
       "      <th>0</th>\n",
       "      <td>0.23</td>\n",
       "      <td>2</td>\n",
       "      <td>1</td>\n",
       "      <td>3</td>\n",
       "      <td>61.5</td>\n",
       "      <td>55.0</td>\n",
       "      <td>326</td>\n",
       "      <td>3.95</td>\n",
       "      <td>3.98</td>\n",
       "      <td>2.43</td>\n",
       "    </tr>\n",
       "    <tr>\n",
       "      <th>1</th>\n",
       "      <td>0.21</td>\n",
       "      <td>3</td>\n",
       "      <td>1</td>\n",
       "      <td>2</td>\n",
       "      <td>59.8</td>\n",
       "      <td>61.0</td>\n",
       "      <td>326</td>\n",
       "      <td>3.89</td>\n",
       "      <td>3.84</td>\n",
       "      <td>2.31</td>\n",
       "    </tr>\n",
       "    <tr>\n",
       "      <th>2</th>\n",
       "      <td>0.23</td>\n",
       "      <td>1</td>\n",
       "      <td>1</td>\n",
       "      <td>4</td>\n",
       "      <td>56.9</td>\n",
       "      <td>65.0</td>\n",
       "      <td>327</td>\n",
       "      <td>4.05</td>\n",
       "      <td>4.07</td>\n",
       "      <td>2.31</td>\n",
       "    </tr>\n",
       "    <tr>\n",
       "      <th>3</th>\n",
       "      <td>0.29</td>\n",
       "      <td>3</td>\n",
       "      <td>5</td>\n",
       "      <td>5</td>\n",
       "      <td>62.4</td>\n",
       "      <td>58.0</td>\n",
       "      <td>334</td>\n",
       "      <td>4.20</td>\n",
       "      <td>4.23</td>\n",
       "      <td>2.63</td>\n",
       "    </tr>\n",
       "    <tr>\n",
       "      <th>4</th>\n",
       "      <td>0.31</td>\n",
       "      <td>1</td>\n",
       "      <td>6</td>\n",
       "      <td>3</td>\n",
       "      <td>63.3</td>\n",
       "      <td>58.0</td>\n",
       "      <td>335</td>\n",
       "      <td>4.34</td>\n",
       "      <td>4.35</td>\n",
       "      <td>2.75</td>\n",
       "    </tr>\n",
       "  </tbody>\n",
       "</table>\n",
       "</div>"
      ],
      "text/plain": [
       "   carat  cut  color  clarity  depth  table  price     x     y     z\n",
       "0   0.23    2      1        3   61.5   55.0    326  3.95  3.98  2.43\n",
       "1   0.21    3      1        2   59.8   61.0    326  3.89  3.84  2.31\n",
       "2   0.23    1      1        4   56.9   65.0    327  4.05  4.07  2.31\n",
       "3   0.29    3      5        5   62.4   58.0    334  4.20  4.23  2.63\n",
       "4   0.31    1      6        3   63.3   58.0    335  4.34  4.35  2.75"
      ]
     },
     "execution_count": 9,
     "metadata": {},
     "output_type": "execute_result"
    }
   ],
   "source": [
    "df.head()"
   ]
  },
  {
   "cell_type": "markdown",
   "id": "389a2591",
   "metadata": {},
   "source": [
    "# Rechecking types"
   ]
  },
  {
   "cell_type": "code",
   "execution_count": 10,
   "id": "a70b24cc",
   "metadata": {},
   "outputs": [
    {
     "data": {
      "text/plain": [
       "carat      float64\n",
       "cut          int32\n",
       "color        int32\n",
       "clarity      int32\n",
       "depth      float64\n",
       "table      float64\n",
       "price        int64\n",
       "x          float64\n",
       "y          float64\n",
       "z          float64\n",
       "dtype: object"
      ]
     },
     "execution_count": 10,
     "metadata": {},
     "output_type": "execute_result"
    }
   ],
   "source": [
    "df.dtypes"
   ]
  },
  {
   "cell_type": "markdown",
   "id": "eccf28c7",
   "metadata": {},
   "source": [
    "# Draw Plots"
   ]
  },
  {
   "cell_type": "code",
   "execution_count": 11,
   "id": "4fbef437",
   "metadata": {},
   "outputs": [
    {
     "data": {
      "image/png": "[encoded data removed]",
      "text/plain": [
       "<Figure size 432x288 with 1 Axes>"
      ]
     },
     "metadata": {
      "needs_background": "light"
     },
     "output_type": "display_data"
    }
   ],
   "source": [
    "mpl.scatter(df.carat,df.price,color='brown')\n",
    "mpl.xlabel('Carat')\n",
    "mpl.ylabel('Price(k$)')\n",
    "mpl.show()"
   ]
  },
  {
   "cell_type": "code",
   "execution_count": 12,
   "id": "1df0c529",
   "metadata": {},
   "outputs": [
    {
     "data": {
      "image/png": "[encoded data removed]",
      "text/plain": [
       "<Figure size 432x288 with 1 Axes>"
      ]
     },
     "metadata": {
      "needs_background": "light"
     },
     "output_type": "display_data"
    }
   ],
   "source": [
    "mpl.scatter(df.cut,df.price,color='brown')\n",
    "mpl.xlabel('Cut')\n",
    "mpl.ylabel('Price(k$)')\n",
    "mpl.show()"
   ]
  },
  {
   "cell_type": "code",
   "execution_count": 13,
   "id": "7af939ef",
   "metadata": {},
   "outputs": [
    {
     "data": {
      "image/png": "[encoded data removed]",
      "text/plain": [
       "<Figure size 432x288 with 1 Axes>"
      ]
     },
     "metadata": {
      "needs_background": "light"
     },
     "output_type": "display_data"
    }
   ],
   "source": [
    "mpl.scatter(df.table,df.price,color='brown')\n",
    "mpl.xlabel('Table')\n",
    "mpl.ylabel('Price(k$)')\n",
    "mpl.show()"
   ]
  },
  {
   "cell_type": "code",
   "execution_count": 14,
   "id": "c38a7528",
   "metadata": {},
   "outputs": [
    {
     "data": {
      "image/png": "[encoded data removed]",
      "text/plain": [
       "<Figure size 432x288 with 1 Axes>"
      ]
     },
     "metadata": {
      "needs_background": "light"
     },
     "output_type": "display_data"
    }
   ],
   "source": [
    "mpl.scatter(df.depth,df.price,color='brown')\n",
    "mpl.xlabel('Depth')\n",
    "mpl.ylabel('Price(k$)')\n",
    "mpl.show()"
   ]
  },
  {
   "cell_type": "code",
   "execution_count": 15,
   "id": "ebb70fcf",
   "metadata": {},
   "outputs": [
    {
     "data": {
      "image/png": "[encoded data removed]",
      "text/plain": [
       "<Figure size 432x288 with 1 Axes>"
      ]
     },
     "metadata": {
      "needs_background": "light"
     },
     "output_type": "display_data"
    }
   ],
   "source": [
    "mpl.scatter(df.x,df.price,color='brown')\n",
    "mpl.xlabel('X')\n",
    "mpl.ylabel('Price(k$)')\n",
    "mpl.show()"
   ]
  },
  {
   "cell_type": "code",
   "execution_count": 16,
   "id": "073b5eb1",
   "metadata": {},
   "outputs": [
    {
     "data": {
      "image/png": "[encoded data removed]",
      "text/plain": [
       "<Figure size 432x288 with 1 Axes>"
      ]
     },
     "metadata": {
      "needs_background": "light"
     },
     "output_type": "display_data"
    }
   ],
   "source": [
    "mpl.scatter(df.y,df.price,color='brown')\n",
    "mpl.xlabel('Y')\n",
    "mpl.ylabel('Price(k$)')\n",
    "mpl.show()"
   ]
  },
  {
   "cell_type": "code",
   "execution_count": 17,
   "id": "164fa682",
   "metadata": {},
   "outputs": [
    {
     "data": {
      "image/png": "[encoded data removed]",
      "text/plain": [
       "<Figure size 432x288 with 1 Axes>"
      ]
     },
     "metadata": {
      "needs_background": "light"
     },
     "output_type": "display_data"
    }
   ],
   "source": [
    "mpl.scatter(df.z,df.price,color='brown')\n",
    "mpl.xlabel('Z')\n",
    "mpl.ylabel('Price(k$)')\n",
    "mpl.show()"
   ]
  },
  {
   "cell_type": "markdown",
   "id": "37be9b9e",
   "metadata": {},
   "source": [
    "# Create X & Y "
   ]
  },
  {
   "cell_type": "code",
   "execution_count": 18,
   "id": "656c0f3b",
   "metadata": {},
   "outputs": [
    {
     "data": {
      "text/plain": [
       "array([[0.23, 3.  , 1.  , 3.95],\n",
       "       [0.21, 2.  , 1.  , 3.89],\n",
       "       [0.23, 4.  , 1.  , 4.05],\n",
       "       ...,\n",
       "       [0.71, 2.  , 1.  , 5.79],\n",
       "       [0.71, 2.  , 2.  , 5.74],\n",
       "       [0.7 , 5.  , 1.  , 5.71]])"
      ]
     },
     "execution_count": 18,
     "metadata": {},
     "output_type": "execute_result"
    }
   ],
   "source": [
    "#Based on the observation of Plots and research about the important characteristics of diamond:\n",
    "#I found the following combination suitable for X\n",
    "#The best combination for Xdata is color-carat-clarity-x\n",
    "x=np.asanyarray(df[['carat','clarity','color','x']]).astype(float)\n",
    "x"
   ]
  },
  {
   "cell_type": "code",
   "execution_count": 19,
   "id": "2cedf2fd",
   "metadata": {},
   "outputs": [
    {
     "data": {
      "text/plain": [
       "array([[ 326.],\n",
       "       [ 326.],\n",
       "       [ 327.],\n",
       "       ...,\n",
       "       [2756.],\n",
       "       [2756.],\n",
       "       [2757.]])"
      ]
     },
     "execution_count": 19,
     "metadata": {},
     "output_type": "execute_result"
    }
   ],
   "source": [
    "y=np.asanyarray(df[['price']]).astype(float)\n",
    "y"
   ]
  },
  {
   "cell_type": "markdown",
   "id": "330c4fcc",
   "metadata": {},
   "source": [
    "# Normalizing X & Y "
   ]
  },
  {
   "cell_type": "code",
   "execution_count": 20,
   "id": "770c6626",
   "metadata": {},
   "outputs": [],
   "source": [
    "scaler=StandardScaler()"
   ]
  },
  {
   "cell_type": "code",
   "execution_count": 21,
   "id": "3be54258",
   "metadata": {},
   "outputs": [
    {
     "data": {
      "text/plain": [
       "array([[-1.19818918, -0.48423862, -0.93713127, -1.58788233],\n",
       "       [-1.24038379, -1.06409309, -0.93713127, -1.64137165],\n",
       "       [-1.19818918,  0.09561584, -0.93713127, -1.49873345],\n",
       "       ...,\n",
       "       [-0.18551847, -1.06409309, -0.93713127,  0.05245691],\n",
       "       [-0.18551847, -1.06409309, -0.34926644,  0.00788248],\n",
       "       [-0.20661578,  0.67547031, -0.93713127, -0.01886218]])"
      ]
     },
     "execution_count": 21,
     "metadata": {},
     "output_type": "execute_result"
    }
   ],
   "source": [
    "norm_x=scaler.fit(x).transform(x)\n",
    "norm_x"
   ]
  },
  {
   "cell_type": "code",
   "execution_count": 22,
   "id": "4421e05f",
   "metadata": {},
   "outputs": [
    {
     "data": {
      "text/plain": [
       "array([[-0.90410171],\n",
       "       [-0.90410171],\n",
       "       [-0.90385104],\n",
       "       ...,\n",
       "       [-0.29497252],\n",
       "       [-0.29497252],\n",
       "       [-0.29472185]])"
      ]
     },
     "execution_count": 22,
     "metadata": {},
     "output_type": "execute_result"
    }
   ],
   "source": [
    "norm_y=scaler.fit(y).transform(y)\n",
    "norm_y"
   ]
  },
  {
   "cell_type": "markdown",
   "id": "7f2f829b",
   "metadata": {},
   "source": [
    "# Create Data's Train-Test "
   ]
  },
  {
   "cell_type": "code",
   "execution_count": 23,
   "id": "b2bb4364",
   "metadata": {},
   "outputs": [
    {
     "name": "stdout",
     "output_type": "stream",
     "text": [
      "(42075, 4) (11868, 4) (42075, 1) (11868, 1)\n"
     ]
    }
   ],
   "source": [
    "x_train,x_test,y_train,y_test=tts(norm_x,norm_y,train_size=0.78,random_state=5)\n",
    "print(x_train.shape,x_test.shape,y_train.shape,y_test.shape)"
   ]
  },
  {
   "cell_type": "markdown",
   "id": "76d66e4d",
   "metadata": {},
   "source": [
    "# Modeling"
   ]
  },
  {
   "cell_type": "code",
   "execution_count": 24,
   "id": "ce4f65e9",
   "metadata": {},
   "outputs": [],
   "source": [
    "#create model\n",
    "reg=linear_model.LinearRegression()"
   ]
  },
  {
   "cell_type": "code",
   "execution_count": 25,
   "id": "121a1309",
   "metadata": {},
   "outputs": [
    {
     "data": {
      "text/plain": [
       "LinearRegression()"
      ]
     },
     "execution_count": 25,
     "metadata": {},
     "output_type": "execute_result"
    }
   ],
   "source": [
    "#modeling\n",
    "reg.fit(x_train,y_train)"
   ]
  },
  {
   "cell_type": "markdown",
   "id": "cf7bc7c0",
   "metadata": {},
   "source": [
    "### Predict Y "
   ]
  },
  {
   "cell_type": "code",
   "execution_count": 26,
   "id": "b24fd537",
   "metadata": {},
   "outputs": [],
   "source": [
    "#Predicted Y\n",
    "y_hat=reg.predict(x_test)\n",
    "#CorrectAnswer\n",
    "y_ans=y_test"
   ]
  },
  {
   "cell_type": "markdown",
   "id": "2d58f8fc",
   "metadata": {},
   "source": [
    "# Check The Accuracy of Model"
   ]
  },
  {
   "cell_type": "code",
   "execution_count": 27,
   "id": "78c76cb4",
   "metadata": {},
   "outputs": [
    {
     "name": "stdout",
     "output_type": "stream",
     "text": [
      "Variance score: 0.88\n",
      "Mean absolute error: 0.22\n",
      "Residual sum of squares (MSE): 0.12\n",
      "R2-score: 0.88\n"
     ]
    }
   ],
   "source": [
    "# Explained variance score: 1 is perfect prediction\n",
    "print('Variance score: %.2f' % reg.score(x_test, y_ans))\n",
    "\n",
    "print(\"Mean absolute error: %.2f\" % np.mean(np.absolute(y_hat - y_ans)))\n",
    "print(\"Residual sum of squares (MSE): %.2f\" % np.mean((y_hat - y_ans) ** 2))\n",
    "print(\"R2-score: %.2f\" % r2_score(y_ans , y_hat) )"
   ]
  },
  {
   "cell_type": "markdown",
   "id": "6b56133c",
   "metadata": {},
   "source": [
    "# As we can see, the accuracy of the model is almost high\n",
    "# (MAE and MSE is almost Low,R2 and VS is almost High)"
   ]
  },
  {
   "cell_type": "markdown",
   "id": "ca7e5508",
   "metadata": {},
   "source": [
    "## Thank you for your support\n",
    "## Author : HoomanKaseban\n",
    "<a href='https://www.kaggle.com' target='_blank'>Dataset Source:kaggle</a>\n",
    "### you can contact me through gmail,instagram,linkedin and github\n",
    "#### Gmail:www.hoomankaseban@gmail.com\n",
    "<ul>\n",
    "<li><a href='https://www.instagram.com/hooman_kaseban' target='_blank'>my Instagram</a></li>\n",
    "<li><a href='https://www.linkedin.com/in/hoomankaseban/' target='_blank'>my LinkedIn</a></li>\n",
    "<li><a href='https://github.com/hoomankaseban' target='_blank'>my GitHub</a></li>\n",
    "</ul>"
   ]
  },
  {
   "cell_type": "markdown",
   "id": "5c241156",
   "metadata": {},
   "source": [
    "#### Credit:All credits of this code are for Hooman Kaseban and are free for public use.\n",
    "# The END"
   ]
  }
 ],
 "metadata": {
  "kernelspec": {
   "display_name": "Python 3 (ipykernel)",
   "language": "python",
   "name": "python3"
  },
  "language_info": {
   "codemirror_mode": {
    "name": "ipython",
    "version": 3
   },
   "file_extension": ".py",
   "mimetype": "text/x-python",
   "name": "python",
   "nbconvert_exporter": "python",
   "pygments_lexer": "ipython3",
   "version": "3.9.12"
  }
 },
 "nbformat": 4,
 "nbformat_minor": 5
}
